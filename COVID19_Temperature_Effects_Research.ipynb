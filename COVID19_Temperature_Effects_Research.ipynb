{
 "cells": [
  {
   "cell_type": "markdown",
   "metadata": {},
   "source": [
    "### Welcome to the COVID-19 Temperature Research Case Study\n",
    "\n"
   ]
  },
  {
   "cell_type": "markdown",
   "metadata": {},
   "source": [
    "Can a correlation or correlations be found between weather conditions and positivity rates of COVID-19 within the United States? If so, such correlations may enable states or counties to better\n",
    "implement rules and restrictions based on weather forecast."
   ]
  },
  {
   "cell_type": "code",
   "execution_count": 1,
   "metadata": {},
   "outputs": [],
   "source": [
    "## Importing neccesary libraries\n",
    "\n",
    "import matplotlib as mpl\n",
    "import matplotlib.pyplot as plt\n",
    "mpl.rcParams['figure.figsize'] = (20,5)\n",
    "import matplotlib.dates as md\n",
    "'%matplotlib inline'\n",
    "import seaborn as sns\n",
    "import pandas as pd\n",
    "import statsmodels.api as sm\n",
    "import numpy as np"
   ]
  },
  {
   "cell_type": "code",
   "execution_count": 3,
   "metadata": {
    "scrolled": false
   },
   "outputs": [
    {
     "data": {
      "text/html": [
       "<div>\n",
       "<style scoped>\n",
       "    .dataframe tbody tr th:only-of-type {\n",
       "        vertical-align: middle;\n",
       "    }\n",
       "\n",
       "    .dataframe tbody tr th {\n",
       "        vertical-align: top;\n",
       "    }\n",
       "\n",
       "    .dataframe thead th {\n",
       "        text-align: right;\n",
       "    }\n",
       "</style>\n",
       "<table border=\"1\" class=\"dataframe\">\n",
       "  <thead>\n",
       "    <tr style=\"text-align: right;\">\n",
       "      <th></th>\n",
       "      <th>CASES/DAY</th>\n",
       "      <th>CUMULATIVE_Daily_Cases</th>\n",
       "      <th>NonCumulative_Cases/100,000</th>\n",
       "      <th>Cumulative_Cases/100,000</th>\n",
       "      <th>Max_Temp</th>\n",
       "      <th>Avg_Temp</th>\n",
       "      <th>Min_Temp</th>\n",
       "    </tr>\n",
       "  </thead>\n",
       "  <tbody>\n",
       "    <tr>\n",
       "      <th>count</th>\n",
       "      <td>14416.000000</td>\n",
       "      <td>14416.000000</td>\n",
       "      <td>14416.000000</td>\n",
       "      <td>1.441600e+04</td>\n",
       "      <td>14416.000000</td>\n",
       "      <td>14416.000000</td>\n",
       "      <td>14416.000000</td>\n",
       "    </tr>\n",
       "    <tr>\n",
       "      <th>mean</th>\n",
       "      <td>567.250555</td>\n",
       "      <td>51829.806812</td>\n",
       "      <td>891.591842</td>\n",
       "      <td>5.433072e+04</td>\n",
       "      <td>53.772406</td>\n",
       "      <td>62.594756</td>\n",
       "      <td>71.708171</td>\n",
       "    </tr>\n",
       "    <tr>\n",
       "      <th>std</th>\n",
       "      <td>1211.963215</td>\n",
       "      <td>109368.291270</td>\n",
       "      <td>1747.173039</td>\n",
       "      <td>1.199699e+05</td>\n",
       "      <td>17.460839</td>\n",
       "      <td>17.955672</td>\n",
       "      <td>18.259283</td>\n",
       "    </tr>\n",
       "    <tr>\n",
       "      <th>min</th>\n",
       "      <td>-7757.000000</td>\n",
       "      <td>0.000000</td>\n",
       "      <td>0.000000</td>\n",
       "      <td>0.000000e+00</td>\n",
       "      <td>-24.000000</td>\n",
       "      <td>-11.000000</td>\n",
       "      <td>-2.000000</td>\n",
       "    </tr>\n",
       "    <tr>\n",
       "      <th>25%</th>\n",
       "      <td>6.000000</td>\n",
       "      <td>207.000000</td>\n",
       "      <td>17.000000</td>\n",
       "      <td>7.975000e+01</td>\n",
       "      <td>41.000000</td>\n",
       "      <td>50.000000</td>\n",
       "      <td>59.000000</td>\n",
       "    </tr>\n",
       "    <tr>\n",
       "      <th>50%</th>\n",
       "      <td>165.000000</td>\n",
       "      <td>9900.000000</td>\n",
       "      <td>322.000000</td>\n",
       "      <td>1.008550e+04</td>\n",
       "      <td>56.000000</td>\n",
       "      <td>66.000000</td>\n",
       "      <td>76.000000</td>\n",
       "    </tr>\n",
       "    <tr>\n",
       "      <th>75%</th>\n",
       "      <td>651.000000</td>\n",
       "      <td>55130.750000</td>\n",
       "      <td>1137.250000</td>\n",
       "      <td>6.061025e+04</td>\n",
       "      <td>68.000000</td>\n",
       "      <td>77.000000</td>\n",
       "      <td>86.000000</td>\n",
       "    </tr>\n",
       "    <tr>\n",
       "      <th>max</th>\n",
       "      <td>22276.000000</td>\n",
       "      <td>878346.000000</td>\n",
       "      <td>17847.000000</td>\n",
       "      <td>1.572162e+06</td>\n",
       "      <td>96.000000</td>\n",
       "      <td>658.000000</td>\n",
       "      <td>117.000000</td>\n",
       "    </tr>\n",
       "  </tbody>\n",
       "</table>\n",
       "</div>"
      ],
      "text/plain": [
       "          CASES/DAY  CUMULATIVE_Daily_Cases  NonCumulative_Cases/100,000  \\\n",
       "count  14416.000000            14416.000000                 14416.000000   \n",
       "mean     567.250555            51829.806812                   891.591842   \n",
       "std     1211.963215           109368.291270                  1747.173039   \n",
       "min    -7757.000000                0.000000                     0.000000   \n",
       "25%        6.000000              207.000000                    17.000000   \n",
       "50%      165.000000             9900.000000                   322.000000   \n",
       "75%      651.000000            55130.750000                  1137.250000   \n",
       "max    22276.000000           878346.000000                 17847.000000   \n",
       "\n",
       "       Cumulative_Cases/100,000      Max_Temp      Avg_Temp      Min_Temp  \n",
       "count              1.441600e+04  14416.000000  14416.000000  14416.000000  \n",
       "mean               5.433072e+04     53.772406     62.594756     71.708171  \n",
       "std                1.199699e+05     17.460839     17.955672     18.259283  \n",
       "min                0.000000e+00    -24.000000    -11.000000     -2.000000  \n",
       "25%                7.975000e+01     41.000000     50.000000     59.000000  \n",
       "50%                1.008550e+04     56.000000     66.000000     76.000000  \n",
       "75%                6.061025e+04     68.000000     77.000000     86.000000  \n",
       "max                1.572162e+06     96.000000    658.000000    117.000000  "
      ]
     },
     "metadata": {},
     "output_type": "display_data"
    },
    {
     "name": "stdout",
     "output_type": "stream",
     "text": [
      "<class 'pandas.core.frame.DataFrame'>\n",
      "RangeIndex: 14416 entries, 0 to 14415\n",
      "Data columns (total 9 columns):\n",
      " #   Column                       Non-Null Count  Dtype         \n",
      "---  ------                       --------------  -----         \n",
      " 0   Date                         14416 non-null  datetime64[ns]\n",
      " 1   State                        14416 non-null  object        \n",
      " 2   CASES/DAY                    14416 non-null  int64         \n",
      " 3   CUMULATIVE_Daily_Cases       14416 non-null  int64         \n",
      " 4   NonCumulative_Cases/100,000  14416 non-null  int64         \n",
      " 5   Cumulative_Cases/100,000     14416 non-null  int64         \n",
      " 6   Max_Temp                     14416 non-null  int64         \n",
      " 7   Avg_Temp                     14416 non-null  int64         \n",
      " 8   Min_Temp                     14416 non-null  int64         \n",
      "dtypes: datetime64[ns](1), int64(7), object(1)\n",
      "memory usage: 1013.8+ KB\n"
     ]
    },
    {
     "data": {
      "text/html": [
       "<div>\n",
       "<style scoped>\n",
       "    .dataframe tbody tr th:only-of-type {\n",
       "        vertical-align: middle;\n",
       "    }\n",
       "\n",
       "    .dataframe tbody tr th {\n",
       "        vertical-align: top;\n",
       "    }\n",
       "\n",
       "    .dataframe thead th {\n",
       "        text-align: right;\n",
       "    }\n",
       "</style>\n",
       "<table border=\"1\" class=\"dataframe\">\n",
       "  <thead>\n",
       "    <tr style=\"text-align: right;\">\n",
       "      <th></th>\n",
       "      <th>Date</th>\n",
       "      <th>State</th>\n",
       "      <th>CASES/DAY</th>\n",
       "      <th>CUMULATIVE_Daily_Cases</th>\n",
       "      <th>NonCumulative_Cases/100,000</th>\n",
       "      <th>Cumulative_Cases/100,000</th>\n",
       "      <th>Max_Temp</th>\n",
       "      <th>Avg_Temp</th>\n",
       "      <th>Min_Temp</th>\n",
       "    </tr>\n",
       "  </thead>\n",
       "  <tbody>\n",
       "    <tr>\n",
       "      <th>14406</th>\n",
       "      <td>2020-10-09</td>\n",
       "      <td>Wyoming</td>\n",
       "      <td>243</td>\n",
       "      <td>7335</td>\n",
       "      <td>1267</td>\n",
       "      <td>75081</td>\n",
       "      <td>43</td>\n",
       "      <td>62</td>\n",
       "      <td>77</td>\n",
       "    </tr>\n",
       "    <tr>\n",
       "      <th>14407</th>\n",
       "      <td>2020-10-10</td>\n",
       "      <td>Wyoming</td>\n",
       "      <td>120</td>\n",
       "      <td>7455</td>\n",
       "      <td>1288</td>\n",
       "      <td>76369</td>\n",
       "      <td>43</td>\n",
       "      <td>58</td>\n",
       "      <td>76</td>\n",
       "    </tr>\n",
       "    <tr>\n",
       "      <th>14408</th>\n",
       "      <td>2020-10-11</td>\n",
       "      <td>Wyoming</td>\n",
       "      <td>156</td>\n",
       "      <td>7611</td>\n",
       "      <td>1315</td>\n",
       "      <td>77684</td>\n",
       "      <td>39</td>\n",
       "      <td>52</td>\n",
       "      <td>65</td>\n",
       "    </tr>\n",
       "    <tr>\n",
       "      <th>14409</th>\n",
       "      <td>2020-10-12</td>\n",
       "      <td>Wyoming</td>\n",
       "      <td>191</td>\n",
       "      <td>7802</td>\n",
       "      <td>1348</td>\n",
       "      <td>79033</td>\n",
       "      <td>42</td>\n",
       "      <td>54</td>\n",
       "      <td>66</td>\n",
       "    </tr>\n",
       "    <tr>\n",
       "      <th>14410</th>\n",
       "      <td>2020-10-13</td>\n",
       "      <td>Wyoming</td>\n",
       "      <td>162</td>\n",
       "      <td>7964</td>\n",
       "      <td>1376</td>\n",
       "      <td>80409</td>\n",
       "      <td>40</td>\n",
       "      <td>57</td>\n",
       "      <td>68</td>\n",
       "    </tr>\n",
       "    <tr>\n",
       "      <th>14411</th>\n",
       "      <td>2020-10-14</td>\n",
       "      <td>Wyoming</td>\n",
       "      <td>213</td>\n",
       "      <td>8177</td>\n",
       "      <td>1413</td>\n",
       "      <td>81821</td>\n",
       "      <td>34</td>\n",
       "      <td>53</td>\n",
       "      <td>66</td>\n",
       "    </tr>\n",
       "    <tr>\n",
       "      <th>14412</th>\n",
       "      <td>2020-10-15</td>\n",
       "      <td>Wyoming</td>\n",
       "      <td>198</td>\n",
       "      <td>8375</td>\n",
       "      <td>1447</td>\n",
       "      <td>83269</td>\n",
       "      <td>24</td>\n",
       "      <td>35</td>\n",
       "      <td>48</td>\n",
       "    </tr>\n",
       "    <tr>\n",
       "      <th>14413</th>\n",
       "      <td>2020-10-16</td>\n",
       "      <td>Wyoming</td>\n",
       "      <td>290</td>\n",
       "      <td>8665</td>\n",
       "      <td>1497</td>\n",
       "      <td>84766</td>\n",
       "      <td>20</td>\n",
       "      <td>47</td>\n",
       "      <td>67</td>\n",
       "    </tr>\n",
       "    <tr>\n",
       "      <th>14414</th>\n",
       "      <td>2020-10-17</td>\n",
       "      <td>Wyoming</td>\n",
       "      <td>151</td>\n",
       "      <td>8816</td>\n",
       "      <td>1523</td>\n",
       "      <td>86289</td>\n",
       "      <td>32</td>\n",
       "      <td>49</td>\n",
       "      <td>64</td>\n",
       "    </tr>\n",
       "    <tr>\n",
       "      <th>14415</th>\n",
       "      <td>2020-10-18</td>\n",
       "      <td>Wyoming</td>\n",
       "      <td>209</td>\n",
       "      <td>9025</td>\n",
       "      <td>1559</td>\n",
       "      <td>87848</td>\n",
       "      <td>27</td>\n",
       "      <td>30</td>\n",
       "      <td>35</td>\n",
       "    </tr>\n",
       "  </tbody>\n",
       "</table>\n",
       "</div>"
      ],
      "text/plain": [
       "            Date    State  CASES/DAY  CUMULATIVE_Daily_Cases  \\\n",
       "14406 2020-10-09  Wyoming        243                    7335   \n",
       "14407 2020-10-10  Wyoming        120                    7455   \n",
       "14408 2020-10-11  Wyoming        156                    7611   \n",
       "14409 2020-10-12  Wyoming        191                    7802   \n",
       "14410 2020-10-13  Wyoming        162                    7964   \n",
       "14411 2020-10-14  Wyoming        213                    8177   \n",
       "14412 2020-10-15  Wyoming        198                    8375   \n",
       "14413 2020-10-16  Wyoming        290                    8665   \n",
       "14414 2020-10-17  Wyoming        151                    8816   \n",
       "14415 2020-10-18  Wyoming        209                    9025   \n",
       "\n",
       "       NonCumulative_Cases/100,000  Cumulative_Cases/100,000  Max_Temp  \\\n",
       "14406                         1267                     75081        43   \n",
       "14407                         1288                     76369        43   \n",
       "14408                         1315                     77684        39   \n",
       "14409                         1348                     79033        42   \n",
       "14410                         1376                     80409        40   \n",
       "14411                         1413                     81821        34   \n",
       "14412                         1447                     83269        24   \n",
       "14413                         1497                     84766        20   \n",
       "14414                         1523                     86289        32   \n",
       "14415                         1559                     87848        27   \n",
       "\n",
       "       Avg_Temp  Min_Temp  \n",
       "14406        62        77  \n",
       "14407        58        76  \n",
       "14408        52        65  \n",
       "14409        54        66  \n",
       "14410        57        68  \n",
       "14411        53        66  \n",
       "14412        35        48  \n",
       "14413        47        67  \n",
       "14414        49        64  \n",
       "14415        30        35  "
      ]
     },
     "execution_count": 3,
     "metadata": {},
     "output_type": "execute_result"
    }
   ],
   "source": [
    "## Importing data file \n",
    "##dataframe_raw = pd.read_csv(r'C:\\Users\\Ana Salinas\\Desktop\\002_SpringBoard\\Structured_Foundations\\Capstone_2\\COVID19_data.csv', header = 0, parse_dates =['date'], index_col=['date'])\n",
    "\n",
    "dataframe_raw = pd.read_csv(r'C:\\Users\\Ana Salinas\\Desktop\\002_SpringBoard\\Structured_Foundations\\Capstone_2\\COVID-19_HM.csv', header = 0, parse_dates =['Date'])\n",
    "\n",
    "\n",
    "## Showing descriptive statistics for the data frame\n",
    "d = dataframe_raw.describe()\n",
    "display(d)\n",
    "\n",
    "## Showing data types from all datafreame columns\n",
    "dataframe_raw.info()\n",
    "\n",
    "## Showing the fisrt 10 rows of the data frame\n",
    "dataframe_raw.tail(10)\n",
    "\n",
    "## Converting 3rd column into a type int\n",
    "\n",
    "## dataframe_raw['Cumulative_Daily_Number_of_Cases']= dataframe_raw.Cumulative_Daily_Number_of_Cases.astype(int)"
   ]
  },
  {
   "cell_type": "markdown",
   "metadata": {},
   "source": [
    "### Data Cleansing:\n",
    "\n"
   ]
  },
  {
   "cell_type": "markdown",
   "metadata": {},
   "source": [
    "The data was collected on a daily basis using copy/paste from a public website. The few missing\n",
    "dates lacking temperature information were calculated using the average of the most recent\n",
    "temperature known before and after the missing date. A total of 3 columns of 16,556 rows were\n",
    "collected over all of the States and US regions. The collected temperatures were then matched to\n",
    "every State in the main data set containing the daily cases. The main data set contains 643,740\n",
    "rows pertaining to the daily cases recorded between 1/21/2020 - 10/18/2020. The only daily\n",
    "temperature history not found were the data points from Guam and the Virgin Islands, for this\n",
    "reason, these two US regions will be omitted in this case study."
   ]
  },
  {
   "cell_type": "markdown",
   "metadata": {},
   "source": [
    "Checking for missing values from the data file (none are found)"
   ]
  },
  {
   "cell_type": "code",
   "execution_count": 4,
   "metadata": {},
   "outputs": [
    {
     "data": {
      "text/plain": [
       "False"
      ]
     },
     "execution_count": 4,
     "metadata": {},
     "output_type": "execute_result"
    }
   ],
   "source": [
    "d.isna().any().any()\n",
    "dataframe_raw.isna().any().any()\n"
   ]
  },
  {
   "cell_type": "markdown",
   "metadata": {},
   "source": [
    "Checking for valid values (making sure there are no values that are too big/small)"
   ]
  },
  {
   "cell_type": "code",
   "execution_count": 5,
   "metadata": {},
   "outputs": [
    {
     "name": "stdout",
     "output_type": "stream",
     "text": [
      "Max value of Max Temperature =  96 \n",
      "Min value of Min Temperature =  -24 \n",
      "\n",
      "Max value of Min Temperature =  117 \n",
      "Min value of Min Temperature =  -2 \n",
      "\n",
      "Max value of Avg Temperature =  658 \n",
      "Min value of Avg Temperature =  -11 \n",
      "\n",
      "\n",
      "Average Temperature =  66.0\n",
      "\n",
      "\n",
      "The values are within the expected boundaries.\n",
      "End of Data Cleansing!\n"
     ]
    }
   ],
   "source": [
    "## storing min a max values to print & check for boundaries \n",
    "max_of_max = max(dataframe_raw.Max_Temp)\n",
    "min_of_max = min(dataframe_raw.Max_Temp)\n",
    "max_of_min = max(dataframe_raw.Min_Temp)\n",
    "min_of_min = min(dataframe_raw.Min_Temp)\n",
    "max_of_avg = max(dataframe_raw.Avg_Temp)\n",
    "min_of_avg = min(dataframe_raw.Avg_Temp)\n",
    "median_of_avg = np.median(dataframe_raw.Avg_Temp)\n",
    "\n",
    "print('Max value of Max Temperature = ', max_of_max, '\\nMin value of Min Temperature = ', min_of_max,'\\n')\n",
    "print('Max value of Min Temperature = ', max_of_min, '\\nMin value of Min Temperature = ', min_of_min,'\\n')\n",
    "print('Max value of Avg Temperature = ', max_of_avg, '\\nMin value of Avg Temperature = ', min_of_avg,'\\n')\n",
    "\n",
    "print('\\nAverage Temperature = ', median_of_avg)\n",
    "\n",
    "print('\\n\\nThe values are within the expected boundaries.\\nEnd of Data Cleansing!')"
   ]
  },
  {
   "cell_type": "markdown",
   "metadata": {},
   "source": [
    "### Main Issues"
   ]
  },
  {
   "cell_type": "markdown",
   "metadata": {},
   "source": [
    "1. Finding the correlation, if any, between the temperature of each State and the number of daily cases. If\n",
    "it does exist, the weather forecast can be used as a preventive measurement."
   ]
  },
  {
   "cell_type": "markdown",
   "metadata": {},
   "source": [
    "2. Finding the most accurate daily temperature per State to be assigned to the main data set containing\n",
    "the daily cases."
   ]
  },
  {
   "cell_type": "markdown",
   "metadata": {},
   "source": [
    "3. Public sources are not always reliable and lack some of the temperature information for this study."
   ]
  },
  {
   "cell_type": "markdown",
   "metadata": {},
   "source": [
    "4. The study can not use the counties column due to the lack of complete public temperature information,\n",
    "so the data collected was the one from the most populated city from each State."
   ]
  },
  {
   "cell_type": "markdown",
   "metadata": {},
   "source": [
    "5. Some States have a great variation of temperature on the same day."
   ]
  },
  {
   "cell_type": "markdown",
   "metadata": {},
   "source": [
    "6. Two regions (Guam and The Virgin Islands) had to be excluded due to the lack of daily temperature\n",
    "information in the time period that is being covered."
   ]
  },
  {
   "cell_type": "markdown",
   "metadata": {},
   "source": [
    "### Insights"
   ]
  },
  {
   "cell_type": "markdown",
   "metadata": {},
   "source": [
    "The data was separate in 3 categories. States with worst/hottest summers, States with worst/coldest\n",
    "winters, and the remaining States make the last category. The purpose of this classification is to\n",
    "demonstrate that people tend to ignore the stay at home orders where temperatures are extreme more so\n",
    "than in the other States."
   ]
  },
  {
   "cell_type": "markdown",
   "metadata": {},
   "source": [
    "According to thillist.com the States with the most miserable winters are (ranked beginning from the worst):\n",
    "\n",
    "        1.- Minnesota                 8.- Idaho\n",
    "        2.- Michigan                  9.- Montana\n",
    "        3.- Alaska                   10.- Massachusetts\n",
    "        4.- North Dakota             11.- Iowa\n",
    "        5.- Maine                    12.- Wyoming\n",
    "        6.- South Dakota             13.- Illinois\n",
    "        7.- Wisconsin"
   ]
  },
  {
   "cell_type": "markdown",
   "metadata": {},
   "source": [
    "The States with the most miserable summers are:\n",
    "\n",
    "        1.- Mississippi               8.- Florida\n",
    "        2.- Louisiana                 9.- New Mexico\n",
    "        3.- Arizona                  10.- South Carolina\n",
    "        4.- Alabama                  11.- Kansas\n",
    "        5.- Arkansas                 12.- Oklahoma\n",
    "        6.- Georgia                  13.- Missouri\n",
    "        7.- Texas\n",
    "        \n",
    "        \n"
   ]
  },
  {
   "cell_type": "markdown",
   "metadata": {},
   "source": [
    "TO DO: Supporting visializations and conclusion!!"
   ]
  },
  {
   "cell_type": "code",
   "execution_count": null,
   "metadata": {},
   "outputs": [],
   "source": []
  },
  {
   "cell_type": "code",
   "execution_count": null,
   "metadata": {},
   "outputs": [],
   "source": []
  },
  {
   "cell_type": "code",
   "execution_count": null,
   "metadata": {},
   "outputs": [],
   "source": []
  },
  {
   "cell_type": "code",
   "execution_count": null,
   "metadata": {},
   "outputs": [],
   "source": []
  },
  {
   "cell_type": "code",
   "execution_count": null,
   "metadata": {},
   "outputs": [],
   "source": []
  },
  {
   "cell_type": "code",
   "execution_count": null,
   "metadata": {},
   "outputs": [],
   "source": []
  }
 ],
 "metadata": {
  "kernelspec": {
   "display_name": "Python 3",
   "language": "python",
   "name": "python3"
  },
  "language_info": {
   "codemirror_mode": {
    "name": "ipython",
    "version": 3
   },
   "file_extension": ".py",
   "mimetype": "text/x-python",
   "name": "python",
   "nbconvert_exporter": "python",
   "pygments_lexer": "ipython3",
   "version": "3.8.3"
  }
 },
 "nbformat": 4,
 "nbformat_minor": 4
}
